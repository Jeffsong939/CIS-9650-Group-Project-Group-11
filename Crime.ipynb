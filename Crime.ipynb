{
 "cells": [
  {
   "cell_type": "code",
   "execution_count": 104,
   "metadata": {},
   "outputs": [],
   "source": [
    "import pandas as pd\n",
    "import matplotlib.pyplot as plt\n",
    "import numpy as np"
   ]
  },
  {
   "cell_type": "code",
   "execution_count": 105,
   "metadata": {},
   "outputs": [],
   "source": [
    "df = pd.read_csv(\"gdelt_conflict_1_0 2.csv\")"
   ]
  },
  {
   "cell_type": "code",
   "execution_count": 106,
   "metadata": {},
   "outputs": [
    {
     "data": {
      "text/html": [
       "<div>\n",
       "<style scoped>\n",
       "    .dataframe tbody tr th:only-of-type {\n",
       "        vertical-align: middle;\n",
       "    }\n",
       "\n",
       "    .dataframe tbody tr th {\n",
       "        vertical-align: top;\n",
       "    }\n",
       "\n",
       "    .dataframe thead th {\n",
       "        text-align: right;\n",
       "    }\n",
       "</style>\n",
       "<table border=\"1\" class=\"dataframe\">\n",
       "  <thead>\n",
       "    <tr style=\"text-align: right;\">\n",
       "      <th></th>\n",
       "      <th>Year</th>\n",
       "      <th>CountryCode</th>\n",
       "      <th>CountryName</th>\n",
       "      <th>SumEvents</th>\n",
       "      <th>TotalEvents</th>\n",
       "      <th>NormalizedEvents1000</th>\n",
       "      <th>EventRootCode</th>\n",
       "      <th>EventRootDescr</th>\n",
       "      <th>EventCode</th>\n",
       "      <th>EventDescr</th>\n",
       "      <th>GoldsteinScale</th>\n",
       "      <th>AvgNumMentions</th>\n",
       "      <th>SumNumMentions</th>\n",
       "      <th>AvgAvgTone</th>\n",
       "    </tr>\n",
       "  </thead>\n",
       "  <tbody>\n",
       "    <tr>\n",
       "      <th>0</th>\n",
       "      <td>1979</td>\n",
       "      <td>CH</td>\n",
       "      <td>China</td>\n",
       "      <td>350</td>\n",
       "      <td>33541</td>\n",
       "      <td>10.434990</td>\n",
       "      <td>19</td>\n",
       "      <td>FIGHT</td>\n",
       "      <td>193</td>\n",
       "      <td>Fight with small arms and light weapons</td>\n",
       "      <td>-10.0</td>\n",
       "      <td>3.988571</td>\n",
       "      <td>1396</td>\n",
       "      <td>1.906000</td>\n",
       "    </tr>\n",
       "    <tr>\n",
       "      <th>1</th>\n",
       "      <td>1979</td>\n",
       "      <td>HR</td>\n",
       "      <td>Croatia</td>\n",
       "      <td>14</td>\n",
       "      <td>714</td>\n",
       "      <td>19.607843</td>\n",
       "      <td>19</td>\n",
       "      <td>FIGHT</td>\n",
       "      <td>190</td>\n",
       "      <td>Use conventional military force, not specified...</td>\n",
       "      <td>-10.0</td>\n",
       "      <td>2.642857</td>\n",
       "      <td>37</td>\n",
       "      <td>4.335594</td>\n",
       "    </tr>\n",
       "    <tr>\n",
       "      <th>2</th>\n",
       "      <td>1979</td>\n",
       "      <td>SU</td>\n",
       "      <td>Sudan</td>\n",
       "      <td>16</td>\n",
       "      <td>1354</td>\n",
       "      <td>11.816839</td>\n",
       "      <td>17</td>\n",
       "      <td>COERCE</td>\n",
       "      <td>173</td>\n",
       "      <td>Arrest, detain, or charge with legal action</td>\n",
       "      <td>-5.0</td>\n",
       "      <td>6.000000</td>\n",
       "      <td>96</td>\n",
       "      <td>3.358047</td>\n",
       "    </tr>\n",
       "    <tr>\n",
       "      <th>3</th>\n",
       "      <td>1979</td>\n",
       "      <td>SY</td>\n",
       "      <td>Syria</td>\n",
       "      <td>71</td>\n",
       "      <td>3119</td>\n",
       "      <td>22.763706</td>\n",
       "      <td>19</td>\n",
       "      <td>FIGHT</td>\n",
       "      <td>193</td>\n",
       "      <td>Fight with small arms and light weapons</td>\n",
       "      <td>-10.0</td>\n",
       "      <td>3.647887</td>\n",
       "      <td>259</td>\n",
       "      <td>3.557653</td>\n",
       "    </tr>\n",
       "    <tr>\n",
       "      <th>4</th>\n",
       "      <td>1979</td>\n",
       "      <td>GM</td>\n",
       "      <td>Germany</td>\n",
       "      <td>33</td>\n",
       "      <td>6615</td>\n",
       "      <td>4.988662</td>\n",
       "      <td>17</td>\n",
       "      <td>COERCE</td>\n",
       "      <td>172</td>\n",
       "      <td>Impose administrative sanctions, not specified...</td>\n",
       "      <td>-5.0</td>\n",
       "      <td>4.484848</td>\n",
       "      <td>148</td>\n",
       "      <td>4.841399</td>\n",
       "    </tr>\n",
       "  </tbody>\n",
       "</table>\n",
       "</div>"
      ],
      "text/plain": [
       "   Year CountryCode CountryName  SumEvents  TotalEvents  NormalizedEvents1000  \\\n",
       "0  1979          CH       China        350        33541             10.434990   \n",
       "1  1979          HR     Croatia         14          714             19.607843   \n",
       "2  1979          SU       Sudan         16         1354             11.816839   \n",
       "3  1979          SY       Syria         71         3119             22.763706   \n",
       "4  1979          GM     Germany         33         6615              4.988662   \n",
       "\n",
       "   EventRootCode EventRootDescr  EventCode  \\\n",
       "0             19          FIGHT        193   \n",
       "1             19          FIGHT        190   \n",
       "2             17         COERCE        173   \n",
       "3             19          FIGHT        193   \n",
       "4             17         COERCE        172   \n",
       "\n",
       "                                          EventDescr  GoldsteinScale  \\\n",
       "0            Fight with small arms and light weapons           -10.0   \n",
       "1  Use conventional military force, not specified...           -10.0   \n",
       "2       Arrest, detain, or charge with legal action             -5.0   \n",
       "3            Fight with small arms and light weapons           -10.0   \n",
       "4  Impose administrative sanctions, not specified...            -5.0   \n",
       "\n",
       "   AvgNumMentions  SumNumMentions  AvgAvgTone  \n",
       "0        3.988571            1396    1.906000  \n",
       "1        2.642857              37    4.335594  \n",
       "2        6.000000              96    3.358047  \n",
       "3        3.647887             259    3.557653  \n",
       "4        4.484848             148    4.841399  "
      ]
     },
     "execution_count": 106,
     "metadata": {},
     "output_type": "execute_result"
    }
   ],
   "source": [
    "df.head()"
   ]
  },
  {
   "cell_type": "code",
   "execution_count": 107,
   "metadata": {},
   "outputs": [
    {
     "name": "stdout",
     "output_type": "stream",
     "text": [
      "(176432, 14)\n"
     ]
    }
   ],
   "source": [
    "print(df.shape)"
   ]
  },
  {
   "cell_type": "code",
   "execution_count": 108,
   "metadata": {},
   "outputs": [
    {
     "name": "stdout",
     "output_type": "stream",
     "text": [
      "Index(['Year', 'CountryCode', 'CountryName', 'SumEvents', 'TotalEvents',\n",
      "       'NormalizedEvents1000', 'EventRootCode', 'EventRootDescr', 'EventCode',\n",
      "       'EventDescr', 'GoldsteinScale', 'AvgNumMentions', 'SumNumMentions',\n",
      "       'AvgAvgTone'],\n",
      "      dtype='object')\n"
     ]
    }
   ],
   "source": [
    "print(df.columns)"
   ]
  },
  {
   "cell_type": "code",
   "execution_count": 109,
   "metadata": {},
   "outputs": [
    {
     "data": {
      "text/plain": [
       "Year                      int64\n",
       "CountryCode              object\n",
       "CountryName              object\n",
       "SumEvents                 int64\n",
       "TotalEvents               int64\n",
       "NormalizedEvents1000    float64\n",
       "EventRootCode             int64\n",
       "EventRootDescr           object\n",
       "EventCode                 int64\n",
       "EventDescr               object\n",
       "GoldsteinScale          float64\n",
       "AvgNumMentions          float64\n",
       "SumNumMentions            int64\n",
       "AvgAvgTone              float64\n",
       "dtype: object"
      ]
     },
     "execution_count": 109,
     "metadata": {},
     "output_type": "execute_result"
    }
   ],
   "source": [
    "df.dtypes"
   ]
  },
  {
   "cell_type": "code",
   "execution_count": 110,
   "metadata": {},
   "outputs": [
    {
     "data": {
      "text/plain": [
       "Year                    0\n",
       "CountryCode             0\n",
       "CountryName             0\n",
       "SumEvents               0\n",
       "TotalEvents             0\n",
       "NormalizedEvents1000    0\n",
       "EventRootCode           0\n",
       "EventRootDescr          0\n",
       "EventCode               0\n",
       "EventDescr              0\n",
       "GoldsteinScale          0\n",
       "AvgNumMentions          0\n",
       "SumNumMentions          0\n",
       "AvgAvgTone              0\n",
       "dtype: int64"
      ]
     },
     "execution_count": 110,
     "metadata": {},
     "output_type": "execute_result"
    }
   ],
   "source": [
    "df.isna().sum()"
   ]
  },
  {
   "cell_type": "code",
   "execution_count": 111,
   "metadata": {},
   "outputs": [
    {
     "name": "stdout",
     "output_type": "stream",
     "text": [
      "EventRootDescr\n",
      "ASSAULT                              3183848\n",
      "COERCE                              11115652\n",
      "FIGHT                               12741565\n",
      "USE UNCONVENTIONAL MASS VIOLENCE       36413\n",
      "Name: SumEvents, dtype: int64\n"
     ]
    }
   ],
   "source": [
    "ff = df[(df.CountryCode == \"US\")]\n",
    "ff = ff.groupby(ff.EventRootDescr).sum()[\"SumEvents\"]\n",
    "\n",
    "print(ff)"
   ]
  },
  {
   "cell_type": "code",
   "execution_count": 112,
   "metadata": {},
   "outputs": [
    {
     "data": {
      "image/png": "[encoded data removed]",
      "text/plain": [
       "<Figure size 432x288 with 1 Axes>"
      ]
     },
     "metadata": {},
     "output_type": "display_data"
    }
   ],
   "source": [
    "global1 = df[(df.Year <= 2020) & (df.Year > 2000)]\n",
    "global1 = global1.groupby(global1.EventRootDescr).sum()[\"SumEvents\"]\n",
    "\n",
    "chart1 = global1.plot.pie(x='EventRootDescr', y='Total Events', title = \"Types of Crime 2000-2020\", rot=0, autopct='%1.1f%%')"
   ]
  },
  {
   "cell_type": "code",
   "execution_count": 113,
   "metadata": {},
   "outputs": [
    {
     "data": {
      "image/png": "[encoded data removed]",
      "text/plain": [
       "<Figure size 432x288 with 1 Axes>"
      ]
     },
     "metadata": {},
     "output_type": "display_data"
    }
   ],
   "source": [
    "global2 = df[(df.Year <= 2000) & (df.Year > 1980)]\n",
    "global2 = global2.groupby(global2.EventRootDescr).sum()[\"SumEvents\"]\n",
    "\n",
    "chart2 = global2.plot.pie(x='EventRootDescr', y='Total Events', title = \"Types of Crime 1980-2000\", rot=0, autopct='%1.1f%%')"
   ]
  },
  {
   "cell_type": "code",
   "execution_count": null,
   "metadata": {},
   "outputs": [],
   "source": []
  },
  {
   "cell_type": "code",
   "execution_count": null,
   "metadata": {},
   "outputs": [],
   "source": []
  }
 ],
 "metadata": {
  "kernelspec": {
   "display_name": "Python 3",
   "language": "python",
   "name": "python3"
  },
  "language_info": {
   "codemirror_mode": {
    "name": "ipython",
    "version": 3
   },
   "file_extension": ".py",
   "mimetype": "text/x-python",
   "name": "python",
   "nbconvert_exporter": "python",
   "pygments_lexer": "ipython3",
   "version": "3.8.5"
  }
 },
 "nbformat": 4,
 "nbformat_minor": 4
}
